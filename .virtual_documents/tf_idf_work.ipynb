# accumumate all headlines over a series of days based off a list of media organisation you want to include and start dates
import datetime
import pandas as pd
from collections import defaultdict
from mediadata import get_headline_df, get_biden_trump_dataframes, get_accumulated_headlines




start_date = datetime.date(2024, 3, 18)
end_date = datetime.date(2024, 3, 21)
media_orgs = ['FOX', 'CNN']

df = get_accumulated_headlines(start_date, end_date, media_orgs)


from nltk.corpus import stopwords
import nltk
# nltk.download()

def remove_stopwords(df: pd.DataFrame, column = 'Headline') -> pd.DataFrame:
    """Removes the stopwords from the Headline column of a dataframe"""
    set_stopwords = set(stopwords.words('English'))
    df_no_stopwords = df.copy()
    df_no_stopwords[column] = df_no_stopwords[column].apply(lambda x: ' '.join([i for i in x.split() if i not in set_stopwords]))
    return df_no_stopwords

df_no_stopwords = remove_stopwords(df)


biden, trump, _, _ = get_biden_trump_dataframes(df_no_stopwords)
biden.head()


from typing import List
def build_documents(df: pd.DataFrame):
    """Builds documents based off dataframe containing different values in the MediaOrg column"""
    documents = []
    all_media_orgs = list(set(df['MediaOrg']))
    for org in all_media_orgs:
        sub_df = df[df['MediaOrg'] == org]
        sub_df_document = ' '.join(list(sub_df['Headline']))
        documents.append(sub_df_document)
    return documents, all_media_orgs

def build_documents_for_organisation(dfs: List[pd.DataFrame]):
    labels = ['Biden', 'Trump', 'Both', 'Neither']
    documents = []
    for df in dfs:
        sub_df_document = ' '.join(list(df['Headline']))
        documents.append(sub_df_document)
    return documents, labels
    

def get_tf_idf_df(documents, labels):
    from sklearn.feature_extraction.text import TfidfVectorizer

    vectoriser = TfidfVectorizer()
    vectors = vectoriser.fit_transform(documents)
    feature_names = vectoriser.get_feature_names_out()
    dense = vectors.todense()
    denselist = dense.tolist()
    tf_idf_df = pd.DataFrame(denselist, columns=feature_names)
    tf_idf_df.index = labels
    return tf_idf_df[[i for i in tf_idf_df.columns if not i.isnumeric()]].T

# get the documents for what each media organisation is saying about biden and trump
biden_documents, biden_labels = build_documents(biden)
trump_documents, trump_labels = build_documents(trump)

# get the tf_idf measure for biden and trump 
tf_idf_df = get_tf_idf_df(biden_documents, biden_labels)
trump_tf_idf = get_tf_idf_df(trump_documents, trump_labels)


tf_idf_df.sort_values('FOX', ascending=False).head(15)[['FOX']]


tf_idf_df.sort_values('CNN', ascending=False).head(15)[['CNN']]





cnn_df = df_no_stopwords[df_no_stopwords['MediaOrg'] == 'CNN'].copy()
fox_df = df_no_stopwords[df_no_stopwords['MediaOrg'] == 'FOX'].copy()


def get_tf_idf_analysis_for_single_org(df):
    cnn_biden, cnn_trump, cnn_both, cnn_neither = get_biden_trump_dataframes(df)
    cnn_documents, cnn_labels = build_documents_for_organisation([cnn_biden, cnn_trump, cnn_both, cnn_neither])
    cnn_tf_idf_df = get_tf_idf_df(cnn_documents, cnn_labels)
    return cnn_tf_idf_df
    
    
cnn_tf_idf_df = get_tf_idf_analysis_for_single_org(cnn_df)
fox_tf_idf_df = get_tf_idf_analysis_for_single_org(fox_df)






cnn_tf_idf_df.sort_values('Trump', ascending=False).head(10)


fox_tf_idf_df.sort_values('Trump', ascending=False).head(10)


df[




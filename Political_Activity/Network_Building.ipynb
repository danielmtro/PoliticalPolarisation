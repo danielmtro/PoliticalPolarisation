{
 "cells": [
  {
   "cell_type": "code",
   "execution_count": 9,
   "id": "396170bb-94a3-4519-95a5-2dd13386e9ed",
   "metadata": {},
   "outputs": [],
   "source": [
    "import datetime\n",
    "import pandas as pd\n",
    "import numpy as np\n",
    "from typing import List\n",
    "from collections import defaultdict, Counter\n",
    "from mediadata import get_headline_df, get_biden_trump_dataframes, get_accumulated_headlines\n",
    "from tf_idf import remove_stopwords, build_documents, get_tf_idf_df\n",
    "\n",
    "        \n",
    "        \n",
    "start_date = datetime.date(2024, 3, 18)\n",
    "end_date = datetime.date(2024, 3, 21)\n",
    "media_orgs = ['FOX', 'CNN']\n",
    "\n",
    "df = get_accumulated_headlines(start_date, end_date, media_orgs)  \n",
    "df_no_stopwords = remove_stopwords(df)"
   ]
  },
  {
   "cell_type": "code",
   "execution_count": 16,
   "id": "8f41d260-32f5-4de6-8277-017bf374748f",
   "metadata": {},
   "outputs": [],
   "source": [
    "biden, trump, _, _ = get_biden_trump_dataframes(df_no_stopwords)\n",
    "documents, labels = build_documents(biden)"
   ]
  },
  {
   "cell_type": "code",
   "execution_count": 17,
   "id": "22d5dd79-2b6b-4068-b105-a3e7acdd4856",
   "metadata": {},
   "outputs": [],
   "source": [
    "fox = documents[0]\n",
    "cnn = documents[1]"
   ]
  },
  {
   "cell_type": "code",
   "execution_count": 29,
   "id": "229a7219-68ad-4664-820b-df3b7ced36ed",
   "metadata": {},
   "outputs": [],
   "source": [
    "# get a frequency dataframe\n",
    "word_frequencies = {}\n",
    "for doc, label in zip(documents, labels):\n",
    "    word_frequencies[label] = Counter(doc.split())\n",
    "word_frequencies = pd.DataFrame(word_frequencies)\n",
    "FOX = word_frequencies[['FOX']]\n",
    "CNN = word_frequencies[['CNN']]"
   ]
  },
  {
   "cell_type": "code",
   "execution_count": 41,
   "id": "6103f4d2-7f49-4568-9a35-f00e2a940497",
   "metadata": {},
   "outputs": [],
   "source": [
    "top_fox_values = FOX.sort_values('FOX', ascending=False).head(50)['FOX'].index\n",
    "top_cnn_values = CNN.sort_values('CNN', ascending=False).head(50)['CNN'].index\n",
    "combined = list(set(top_fox_values + top_cnn_values))"
   ]
  },
  {
   "cell_type": "code",
   "execution_count": 42,
   "id": "2d461b1e-4311-4f3f-88cc-eef29b23c462",
   "metadata": {},
   "outputs": [
    {
     "data": {
      "text/plain": [
       "['reportLev',\n",
       " 'helpsrisk',\n",
       " 'stopBenjamin',\n",
       " 'newParnas',\n",
       " 'SAVELIVE:',\n",
       " 'Americansseeks',\n",
       " 'Courtimpeachment',\n",
       " 'Sullivan2024',\n",
       " 'wandersinvitation',\n",
       " 'shoesofficials',\n",
       " 'NetanyahuIsraeli',\n",
       " 'BidenBiden',\n",
       " 'Goldwitness',\n",
       " 'familycritical',\n",
       " 'ripsGiuliani',\n",
       " 'swearingFirst',\n",
       " 'questionthroughout',\n",
       " 'crowdblasts',\n",
       " 'saysUS,',\n",
       " 'forgivenessdelivers',\n",
       " 'askingDay',\n",
       " 'becomingremarks',\n",
       " \"'whencelebration\",\n",
       " 'daddiverse',\n",
       " 'Supremecampaign',\n",
       " 'babyOversight',\n",
       " 'PlanSt.',\n",
       " 'stagetakes',\n",
       " 'Starreinvigorate',\n",
       " 'eventinvite',\n",
       " 'Biden’shearing',\n",
       " \"Women'sWATCH\",\n",
       " \"Biden'scoalition\",\n",
       " 'provideWest',\n",
       " \"resist'CNN:\",\n",
       " \"reporter'ssystems\",\n",
       " \"'maximumswing\",\n",
       " 'gottenNetanyahu',\n",
       " 'reportedlygovernors',\n",
       " 'campaignpolitical',\n",
       " 'mysteriousCommittee',\n",
       " \"spouse?'Schumer,\",\n",
       " 'SOTUhitting',\n",
       " 'loanPresident',\n",
       " \"stability'warn\",\n",
       " 'PresidentCyberattacks',\n",
       " 'Congressmanassociate',\n",
       " 'AfghanistanPatrick’s',\n",
       " 'studentDemocrats',\n",
       " 'stateswater']"
      ]
     },
     "execution_count": 42,
     "metadata": {},
     "output_type": "execute_result"
    }
   ],
   "source": [
    "combined"
   ]
  },
  {
   "cell_type": "code",
   "execution_count": null,
   "id": "0c79af11-bc87-4378-83d0-bab993eb9bcf",
   "metadata": {},
   "outputs": [],
   "source": []
  }
 ],
 "metadata": {
  "kernelspec": {
   "display_name": "Python 3",
   "language": "python",
   "name": "python3"
  },
  "language_info": {
   "codemirror_mode": {
    "name": "ipython",
    "version": 3
   },
   "file_extension": ".py",
   "mimetype": "text/x-python",
   "name": "python",
   "nbconvert_exporter": "python",
   "pygments_lexer": "ipython3",
   "version": "3.8.8"
  }
 },
 "nbformat": 4,
 "nbformat_minor": 5
}

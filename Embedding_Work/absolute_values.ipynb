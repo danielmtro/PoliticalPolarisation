{
 "cells": [
  {
   "cell_type": "code",
   "execution_count": 2,
   "id": "91fcde59-d853-44c3-984c-7b2f95bf1632",
   "metadata": {},
   "outputs": [],
   "source": [
    "from mediadata import(\n",
    "    get_headline_df,\n",
    "    get_biden_trump_dataframes\n",
    ")\n",
    "from vaderSentiment.vaderSentiment import SentimentIntensityAnalyzer\n",
    "import datetime\n",
    "import numpy as np\n",
    "import pandas as pd"
   ]
  },
  {
   "cell_type": "code",
   "execution_count": 3,
   "id": "5d0d63b0-cfd3-47a1-9ccb-9b6022b4fdcd",
   "metadata": {},
   "outputs": [],
   "source": [
    "start_date = datetime.date(2024, 3, 1)\n",
    "end_date = datetime.date(2024, 4, 1)\n",
    "\n",
    "cnn_headlines = []\n",
    "fox_headlines = []\n",
    "\n",
    "def get_headlines_over_dates(media_org: str, start: datetime.date, end: datetime.date):\n",
    "    headlines = []\n",
    "    current_date = start_date\n",
    "    while current_date < end_date:\n",
    "\n",
    "        try:\n",
    "            headlines.append(get_headline_df(media_org, current_date))\n",
    "        except: \n",
    "            pass\n",
    "\n",
    "        current_date += datetime.timedelta(1)\n",
    "        \n",
    "    if len(headlines) == 0:\n",
    "        return pd.DataFrame()\n",
    "    return pd.concat(headlines)\n",
    "    "
   ]
  },
  {
   "cell_type": "code",
   "execution_count": 7,
   "id": "e8b307f1-df24-4de2-8e9a-58188f76e474",
   "metadata": {},
   "outputs": [],
   "source": [
    "current_date = start_date\n",
    "while current_date < end_date:\n",
    "    \n",
    "    try:\n",
    "        fox_headlines.append(get_headline_df('FOX', current_date))\n",
    "    except: \n",
    "        pass\n",
    "    \n",
    "    current_date += datetime.timedelta(1)"
   ]
  },
  {
   "cell_type": "code",
   "execution_count": 71,
   "id": "6bf35acf-0cab-4a4f-94c7-fbce66326c4a",
   "metadata": {},
   "outputs": [],
   "source": [
    "all_fox = get_headlines_over_dates('FOX', start_date, end_date)\n",
    "all_cnn = get_headlines_over_dates('CNN', start_date, end_date)\n",
    "all_abc = get_headlines_over_dates('abc', start_date, end_date)\n",
    "all_daily = get_headlines_over_dates('daily', start_date, end_date)\n",
    "all_nbc = get_headlines_over_dates('nbc', start_date, end_date)\n",
    "all_nypost = get_headlines_over_dates('nypost', start_date, end_date)\n",
    "all_skyus = get_headlines_over_dates('skyus', start_date, end_date)\n",
    "all_smh = get_headlines_over_dates('smh', start_date, end_date)"
   ]
  },
  {
   "cell_type": "code",
   "execution_count": 72,
   "id": "d09d92f3-2d96-46b6-88f1-a34eae4d9e6c",
   "metadata": {},
   "outputs": [
    {
     "data": {
      "text/plain": [
       "28706"
      ]
     },
     "execution_count": 72,
     "metadata": {},
     "output_type": "execute_result"
    }
   ],
   "source": [
    "total = pd.concat([all_fox, all_cnn, all_abc, all_daily, all_nbc, all_nypost, all_skyus, all_smh])\n",
    "len(total)"
   ]
  },
  {
   "cell_type": "code",
   "execution_count": 79,
   "id": "028e1684-69b1-4aae-8248-adfa252ffd0b",
   "metadata": {},
   "outputs": [],
   "source": [
    "biden, trump, both, neither = get_biden_trump_dataframes(total)\n",
    "both = both[['Headline']]\n",
    "\n",
    "# filter out super tuesday biases\n",
    "both['Headline'] = both['Headline'].apply(lambda x: x.lower().replace('super', ''))"
   ]
  },
  {
   "cell_type": "code",
   "execution_count": 80,
   "id": "83473112-aa50-4c73-af88-a666f51f6356",
   "metadata": {},
   "outputs": [],
   "source": [
    "both['Compound'] = both['Headline'].apply(lambda x: SIA.polarity_scores(x)['compound'])\n",
    "both_sorted = both.sort_values('Compound')\n",
    "negative_sample = both_sorted[both_sorted['Compound'] < -0.4]\n",
    "positive_sample = both_sorted[both_sorted['Compound'] > 0.4]"
   ]
  },
  {
   "cell_type": "code",
   "execution_count": 81,
   "id": "7cc9f148-f3de-4a0c-81b9-617bc7160ed2",
   "metadata": {},
   "outputs": [
    {
     "data": {
      "text/plain": [
       "37"
      ]
     },
     "execution_count": 81,
     "metadata": {},
     "output_type": "execute_result"
    }
   ],
   "source": [
    "len(negative_sample)"
   ]
  },
  {
   "cell_type": "code",
   "execution_count": 82,
   "id": "110f0e27-471b-47cf-9342-4cbb53e64918",
   "metadata": {},
   "outputs": [
    {
     "data": {
      "text/plain": [
       "37"
      ]
     },
     "execution_count": 82,
     "metadata": {},
     "output_type": "execute_result"
    }
   ],
   "source": [
    "len(positive_sample)"
   ]
  },
  {
   "cell_type": "code",
   "execution_count": 83,
   "id": "abe51dcf-0d78-478f-b5c0-419f7aa1d1f5",
   "metadata": {},
   "outputs": [],
   "source": [
    "negative_sample.to_csv('negative_political_training_data.csv', index=False, encoding='UTF8')\n",
    "positive_sample.to_csv('positive_political_training_data.csv', index=False, encoding='UTF8')"
   ]
  },
  {
   "cell_type": "code",
   "execution_count": 84,
   "id": "253f8bde-4a8c-4331-a854-8835d91d07bd",
   "metadata": {},
   "outputs": [],
   "source": [
    "SIA = SentimentIntensityAnalyzer()"
   ]
  },
  {
   "cell_type": "code",
   "execution_count": 22,
   "id": "5d13559e-0138-42e1-adcf-efd0c14498d9",
   "metadata": {},
   "outputs": [],
   "source": [
    "combined['Compound'] = combined['Headline'].apply(lambda x: SIA.polarity_scores(x)['compound'])"
   ]
  },
  {
   "cell_type": "code",
   "execution_count": 26,
   "id": "6df84a62-2a67-4447-a67a-7e757b2aeeeb",
   "metadata": {},
   "outputs": [],
   "source": [
    "sorted_df = combined.sort_values('Compound')"
   ]
  },
  {
   "cell_type": "code",
   "execution_count": 34,
   "id": "d67db08c-7754-4a8a-88aa-c42055e9cde2",
   "metadata": {},
   "outputs": [],
   "source": [
    "negative_sample = sorted_df[sorted_df['Compound'] < -0.8]\n",
    "positive_sample = sorted_df[sorted_df['Compound'] > 0.8]"
   ]
  },
  {
   "cell_type": "code",
   "execution_count": 35,
   "id": "7402287b-b2ae-4650-9110-eaf559870a82",
   "metadata": {},
   "outputs": [
    {
     "data": {
      "text/plain": [
       "425"
      ]
     },
     "execution_count": 35,
     "metadata": {},
     "output_type": "execute_result"
    }
   ],
   "source": [
    "len(negative_sample)"
   ]
  },
  {
   "cell_type": "code",
   "execution_count": 36,
   "id": "43787792-c689-4c68-98d7-2777d7fcdd10",
   "metadata": {},
   "outputs": [
    {
     "data": {
      "text/plain": [
       "89"
      ]
     },
     "execution_count": 36,
     "metadata": {},
     "output_type": "execute_result"
    }
   ],
   "source": [
    "len(positive_sample)"
   ]
  },
  {
   "cell_type": "code",
   "execution_count": 42,
   "id": "856cd6cf-f90c-4798-8837-660d4f8ea538",
   "metadata": {},
   "outputs": [],
   "source": [
    "negative_sample.to_csv('negative_training_data.csv', index=False, encoding='UTF8')\n",
    "positive_sample.to_csv('positive_training_data.csv', index=False, encoding='UTF8')"
   ]
  },
  {
   "cell_type": "code",
   "execution_count": 44,
   "id": "1ddefaf9-b2f4-49f9-b514-546392c404c9",
   "metadata": {},
   "outputs": [
    {
     "data": {
      "text/html": [
       "<div>\n",
       "<style scoped>\n",
       "    .dataframe tbody tr th:only-of-type {\n",
       "        vertical-align: middle;\n",
       "    }\n",
       "\n",
       "    .dataframe tbody tr th {\n",
       "        vertical-align: top;\n",
       "    }\n",
       "\n",
       "    .dataframe thead th {\n",
       "        text-align: right;\n",
       "    }\n",
       "</style>\n",
       "<table border=\"1\" class=\"dataframe\">\n",
       "  <thead>\n",
       "    <tr style=\"text-align: right;\">\n",
       "      <th></th>\n",
       "      <th>Headline</th>\n",
       "      <th>contains_biden</th>\n",
       "      <th>contains_trump</th>\n",
       "      <th>contains_both</th>\n",
       "    </tr>\n",
       "  </thead>\n",
       "  <tbody>\n",
       "    <tr>\n",
       "      <th>86</th>\n",
       "      <td>Super Tuesday may set Biden, Trump rematch, Sp...</td>\n",
       "      <td>True</td>\n",
       "      <td>True</td>\n",
       "      <td>True</td>\n",
       "    </tr>\n",
       "    <tr>\n",
       "      <th>119</th>\n",
       "      <td>Trump leads Biden among voters who favored Bid...</td>\n",
       "      <td>True</td>\n",
       "      <td>True</td>\n",
       "      <td>True</td>\n",
       "    </tr>\n",
       "    <tr>\n",
       "      <th>156</th>\n",
       "      <td>Super Tuesday results expected to move Biden, ...</td>\n",
       "      <td>True</td>\n",
       "      <td>True</td>\n",
       "      <td>True</td>\n",
       "    </tr>\n",
       "    <tr>\n",
       "      <th>166</th>\n",
       "      <td>Super Tuesday results expected to propel Trump...</td>\n",
       "      <td>True</td>\n",
       "      <td>True</td>\n",
       "      <td>True</td>\n",
       "    </tr>\n",
       "    <tr>\n",
       "      <th>249</th>\n",
       "      <td>Trump leads Biden among voters who favored Bid...</td>\n",
       "      <td>True</td>\n",
       "      <td>True</td>\n",
       "      <td>True</td>\n",
       "    </tr>\n",
       "    <tr>\n",
       "      <th>...</th>\n",
       "      <td>...</td>\n",
       "      <td>...</td>\n",
       "      <td>...</td>\n",
       "      <td>...</td>\n",
       "    </tr>\n",
       "    <tr>\n",
       "      <th>45</th>\n",
       "      <td>Supreme Court escalates high-stakes border dra...</td>\n",
       "      <td>True</td>\n",
       "      <td>True</td>\n",
       "      <td>True</td>\n",
       "    </tr>\n",
       "    <tr>\n",
       "      <th>69</th>\n",
       "      <td>Biden’s cash edge widens, Trump’s lawyer fees ...</td>\n",
       "      <td>True</td>\n",
       "      <td>True</td>\n",
       "      <td>True</td>\n",
       "    </tr>\n",
       "    <tr>\n",
       "      <th>37</th>\n",
       "      <td>Supreme Court escalates high-stakes border dra...</td>\n",
       "      <td>True</td>\n",
       "      <td>True</td>\n",
       "      <td>True</td>\n",
       "    </tr>\n",
       "    <tr>\n",
       "      <th>32</th>\n",
       "      <td>Supreme Court escalates high-stakes border dra...</td>\n",
       "      <td>True</td>\n",
       "      <td>True</td>\n",
       "      <td>True</td>\n",
       "    </tr>\n",
       "    <tr>\n",
       "      <th>8</th>\n",
       "      <td>How Trump, Biden and grassroots liberals could...</td>\n",
       "      <td>True</td>\n",
       "      <td>True</td>\n",
       "      <td>True</td>\n",
       "    </tr>\n",
       "  </tbody>\n",
       "</table>\n",
       "<p>152 rows × 4 columns</p>\n",
       "</div>"
      ],
      "text/plain": [
       "                                              Headline  contains_biden  \\\n",
       "86   Super Tuesday may set Biden, Trump rematch, Sp...            True   \n",
       "119  Trump leads Biden among voters who favored Bid...            True   \n",
       "156  Super Tuesday results expected to move Biden, ...            True   \n",
       "166  Super Tuesday results expected to propel Trump...            True   \n",
       "249  Trump leads Biden among voters who favored Bid...            True   \n",
       "..                                                 ...             ...   \n",
       "45   Supreme Court escalates high-stakes border dra...            True   \n",
       "69   Biden’s cash edge widens, Trump’s lawyer fees ...            True   \n",
       "37   Supreme Court escalates high-stakes border dra...            True   \n",
       "32   Supreme Court escalates high-stakes border dra...            True   \n",
       "8    How Trump, Biden and grassroots liberals could...            True   \n",
       "\n",
       "     contains_trump  contains_both  \n",
       "86             True           True  \n",
       "119            True           True  \n",
       "156            True           True  \n",
       "166            True           True  \n",
       "249            True           True  \n",
       "..              ...            ...  \n",
       "45             True           True  \n",
       "69             True           True  \n",
       "37             True           True  \n",
       "32             True           True  \n",
       "8              True           True  \n",
       "\n",
       "[152 rows x 4 columns]"
      ]
     },
     "execution_count": 44,
     "metadata": {},
     "output_type": "execute_result"
    }
   ],
   "source": [
    "both"
   ]
  },
  {
   "cell_type": "code",
   "execution_count": 46,
   "id": "132ac25f-f456-4833-a209-56b7269e435b",
   "metadata": {},
   "outputs": [
    {
     "data": {
      "text/html": [
       "<div>\n",
       "<style scoped>\n",
       "    .dataframe tbody tr th:only-of-type {\n",
       "        vertical-align: middle;\n",
       "    }\n",
       "\n",
       "    .dataframe tbody tr th {\n",
       "        vertical-align: top;\n",
       "    }\n",
       "\n",
       "    .dataframe thead th {\n",
       "        text-align: right;\n",
       "    }\n",
       "</style>\n",
       "<table border=\"1\" class=\"dataframe\">\n",
       "  <thead>\n",
       "    <tr style=\"text-align: right;\">\n",
       "      <th></th>\n",
       "      <th>Headline</th>\n",
       "    </tr>\n",
       "  </thead>\n",
       "  <tbody>\n",
       "    <tr>\n",
       "      <th>86</th>\n",
       "      <td>Super Tuesday may set Biden, Trump rematch, Sp...</td>\n",
       "    </tr>\n",
       "    <tr>\n",
       "      <th>119</th>\n",
       "      <td>Trump leads Biden among voters who favored Bid...</td>\n",
       "    </tr>\n",
       "    <tr>\n",
       "      <th>156</th>\n",
       "      <td>Super Tuesday results expected to move Biden, ...</td>\n",
       "    </tr>\n",
       "    <tr>\n",
       "      <th>166</th>\n",
       "      <td>Super Tuesday results expected to propel Trump...</td>\n",
       "    </tr>\n",
       "    <tr>\n",
       "      <th>249</th>\n",
       "      <td>Trump leads Biden among voters who favored Bid...</td>\n",
       "    </tr>\n",
       "    <tr>\n",
       "      <th>...</th>\n",
       "      <td>...</td>\n",
       "    </tr>\n",
       "    <tr>\n",
       "      <th>45</th>\n",
       "      <td>Supreme Court escalates high-stakes border dra...</td>\n",
       "    </tr>\n",
       "    <tr>\n",
       "      <th>69</th>\n",
       "      <td>Biden’s cash edge widens, Trump’s lawyer fees ...</td>\n",
       "    </tr>\n",
       "    <tr>\n",
       "      <th>37</th>\n",
       "      <td>Supreme Court escalates high-stakes border dra...</td>\n",
       "    </tr>\n",
       "    <tr>\n",
       "      <th>32</th>\n",
       "      <td>Supreme Court escalates high-stakes border dra...</td>\n",
       "    </tr>\n",
       "    <tr>\n",
       "      <th>8</th>\n",
       "      <td>How Trump, Biden and grassroots liberals could...</td>\n",
       "    </tr>\n",
       "  </tbody>\n",
       "</table>\n",
       "<p>152 rows × 1 columns</p>\n",
       "</div>"
      ],
      "text/plain": [
       "                                              Headline\n",
       "86   Super Tuesday may set Biden, Trump rematch, Sp...\n",
       "119  Trump leads Biden among voters who favored Bid...\n",
       "156  Super Tuesday results expected to move Biden, ...\n",
       "166  Super Tuesday results expected to propel Trump...\n",
       "249  Trump leads Biden among voters who favored Bid...\n",
       "..                                                 ...\n",
       "45   Supreme Court escalates high-stakes border dra...\n",
       "69   Biden’s cash edge widens, Trump’s lawyer fees ...\n",
       "37   Supreme Court escalates high-stakes border dra...\n",
       "32   Supreme Court escalates high-stakes border dra...\n",
       "8    How Trump, Biden and grassroots liberals could...\n",
       "\n",
       "[152 rows x 1 columns]"
      ]
     },
     "execution_count": 46,
     "metadata": {},
     "output_type": "execute_result"
    }
   ],
   "source": [
    "p"
   ]
  },
  {
   "cell_type": "code",
   "execution_count": 4,
   "id": "e5d18947-6c16-4441-97c7-1d74dd4a3165",
   "metadata": {},
   "outputs": [],
   "source": [
    "filtered_negative = pd.read_csv('negative_political_training_data.csv').dropna()\n",
    "filtered_positive = pd.read_csv('positive_political_training_data.csv').dropna()"
   ]
  },
  {
   "cell_type": "code",
   "execution_count": 6,
   "id": "b7d6d06c-3a79-4057-81da-5315740b60cc",
   "metadata": {},
   "outputs": [],
   "source": [
    "from mediadata import embed_data\n"
   ]
  },
  {
   "cell_type": "code",
   "execution_count": 7,
   "id": "e846ed03-194a-4c01-8b58-b7fa6b5de942",
   "metadata": {},
   "outputs": [],
   "source": [
    "embedded_negative= embed_data(filtered_negative)\n",
    "embedded_positive= embed_data(filtered_positive)\n",
    "negative_center = embedded_negative.mean(axis=0)\n",
    "positive_center = embedded_positive.mean(axis=0)"
   ]
  },
  {
   "cell_type": "code",
   "execution_count": 138,
   "id": "6a3b4c7b-b7de-448e-9338-db0952bb0fb3",
   "metadata": {},
   "outputs": [
    {
     "data": {
      "text/plain": [
       "0     -0.003074\n",
       "1      0.006880\n",
       "2      0.069811\n",
       "3      0.001583\n",
       "4      0.010875\n",
       "         ...   \n",
       "379    0.025620\n",
       "380    0.015569\n",
       "381   -0.016042\n",
       "382   -0.038823\n",
       "383    0.062362\n",
       "Length: 384, dtype: float32"
      ]
     },
     "execution_count": 138,
     "metadata": {},
     "output_type": "execute_result"
    }
   ],
   "source": [
    "positive_center"
   ]
  },
  {
   "cell_type": "code",
   "execution_count": 8,
   "id": "dc49eb95-270d-4047-9f83-75df95234827",
   "metadata": {},
   "outputs": [],
   "source": [
    "from sklearn.metrics.pairwise import cosine_similarity\n"
   ]
  },
  {
   "cell_type": "code",
   "execution_count": 103,
   "id": "e4c3aeb6-dc4a-4fa6-a3e0-b8443f7eb28b",
   "metadata": {},
   "outputs": [],
   "source": [
    "import numpy as np\n",
    "np_neg_center = np.array(negative_center)\n",
    "np_pos_center = np.array(positive_center)"
   ]
  },
  {
   "cell_type": "code",
   "execution_count": 114,
   "id": "8189fb83-fc25-4c7d-8af5-1cb05e5b1ab2",
   "metadata": {},
   "outputs": [],
   "source": [
    "pd.DataFrame(np_neg_center).T.to_csv('negative_center.csv', index=False)"
   ]
  },
  {
   "cell_type": "code",
   "execution_count": 113,
   "id": "44696443-674a-470c-8303-6ac0a80b5934",
   "metadata": {},
   "outputs": [],
   "source": [
    "pd.DataFrame(np_pos_center).T.to_csv('positive_center.csv', index=False)"
   ]
  },
  {
   "cell_type": "code",
   "execution_count": 15,
   "id": "6184a80f-696f-481b-9ff7-364ad791e48e",
   "metadata": {},
   "outputs": [],
   "source": [
    "from sentence_transformers import SentenceTransformer \n",
    "from mediadata import embed_data, embed_point\n",
    "\n",
    "def get_absolute_polarisation(media_org: str,\n",
    "                               date: datetime.date,\n",
    "                               positive_center,\n",
    "                               negative_center) -> float:\n",
    "    \"\"\"Gets the cosine similarity between all biden articles and all trump articles for a given day.\"\"\"\n",
    "    df = get_headline_df(media_org, date)\n",
    "    only_biden, only_trump, _, _ = get_biden_trump_dataframes(df)\n",
    "\n",
    "    # aggregate all the headlines into one string (each headline separated by a fullstop)\n",
    "    aggregated_biden = '. '.join(only_biden['Headline'])\n",
    "    aggregated_trump = '. '.join(only_trump['Headline'])\n",
    "    \n",
    "    # embed resultant headlines in the model\n",
    "    model = SentenceTransformer('all-MiniLM-L6-v2')\n",
    "    biden_encoded = embed_point(aggregated_biden, model)\n",
    "    trump_encoded = embed_point(aggregated_trump, model)\n",
    "    \n",
    "    # determine cosine similarity - 2D array output\n",
    "#     biden_positive_sentiment = cosine_similarity([biden_encoded], [positive_center])[0][0]\n",
    "#     biden_negative_sentiment = cosine_similarity([biden_encoded], [negative_center])[0][0]\n",
    "\n",
    "    \n",
    "#     trump_positive_sentiment = cosine_similarity([trump_encoded], [positive_center])[0][0]\n",
    "#     trump_negative_sentiment = cosine_similarity([trump_encoded], [negative_center])[0][0]\n",
    "\n",
    "    d2 = np.linalg.norm(biden_encoded - negative_center)\n",
    "    d1 = np.linalg.norm(biden_encoded - positive_center)\n",
    "    \n",
    "#     print(f\"Distances for biden are {d2} {d1}\", end = ' ')\n",
    "    net_biden = d2 - d1\n",
    "    \n",
    "    d2 = np.linalg.norm(trump_encoded - negative_center)\n",
    "    d1 = np.linalg.norm(trump_encoded - positive_center)\n",
    "    net_trump = d2 - d1\n",
    "#     print(f\"Distances for Trump are {d2} {d1}\")\n",
    "    \n",
    "    return net_biden, net_trump\n",
    "\n",
    "\n",
    "def get_polarisations(media_org, start_date, end_date, positive_center, negative_center):\n",
    "    \n",
    "    biden_sentiments = []\n",
    "    trump_sentiments = []\n",
    "    dates = []\n",
    "    \n",
    "    current_date = start_date\n",
    "    while current_date < end_date:\n",
    "        try:\n",
    "            biden, trump = get_absolute_polarisation(media_org, current_date, positive_center, negative_center)\n",
    "            biden_sentiments.append(biden)\n",
    "            trump_sentiments.append(trump)\n",
    "            dates.append(current_date)\n",
    "        except KeyError:\n",
    "            pass\n",
    "        current_date += datetime.timedelta(1)\n",
    "    \n",
    "    return pd.DataFrame({f'{media_org}_Biden': biden_sentiments, f'{media_org}_Trump': trump_sentiments, 'Dates': dates})\n",
    "\n",
    "cnn_data = get_polarisations('CNN', start_date, end_date, positive_center, negative_center)"
   ]
  },
  {
   "cell_type": "code",
   "execution_count": 18,
   "id": "d2bdb601-c20e-47ca-a0ed-487227e1c07d",
   "metadata": {},
   "outputs": [],
   "source": [
    "fox_data = get_polarisations('FOX', start_date, end_date, positive_center, negative_center)"
   ]
  },
  {
   "cell_type": "code",
   "execution_count": null,
   "id": "06d906c5-c936-4f4d-b3f9-8146abebdceb",
   "metadata": {},
   "outputs": [],
   "source": [
    "cnn_data = cnn_data.set_index('Dates')\n",
    "fox_data = fox_data.set_index('Dates')\n"
   ]
  },
  {
   "cell_type": "code",
   "execution_count": 36,
   "id": "ee703c98-0128-41c4-b43e-2754d8435db7",
   "metadata": {},
   "outputs": [],
   "source": [
    "\n",
    "cnn_data.index = pd.to_datetime(cnn_data.index)\n",
    "fox_data.index = pd.to_datetime(fox_data.index)"
   ]
  },
  {
   "cell_type": "code",
   "execution_count": 58,
   "id": "0102cba0-a32e-4fab-8b62-7380a13459d4",
   "metadata": {},
   "outputs": [
    {
     "data": {
      "image/png": "[encoded data removed]",
      "text/plain": [
       "<Figure size 432x288 with 1 Axes>"
      ]
     },
     "metadata": {
      "needs_background": "light"
     },
     "output_type": "display_data"
    }
   ],
   "source": [
    "import matplotlib.pyplot as plt\n",
    "\n",
    "\n",
    "fig, ax = plt.subplots()\n",
    "cnn_data[[i for i in cnn_data.columns if 'CNN' in i]].plot(ax=ax)\n",
    "ax.set_ylabel('Sentiment')\n",
    "ax.set_title('CNN Polarisation')\n",
    "ax.set_facecolor(\"#ffffff\")\n",
    "ax.grid(axis=\"y\", which=\"major\", color=\"#666666\", linestyle='--', alpha=0.4)\n",
    "plt.savefig('CNN_absolute.png')"
   ]
  },
  {
   "cell_type": "code",
   "execution_count": 57,
   "id": "91cef7bd-f8d2-4df5-b990-70d77b0d00ec",
   "metadata": {},
   "outputs": [
    {
     "data": {
      "image/png": "[encoded data removed]",
      "text/plain": [
       "<Figure size 432x288 with 1 Axes>"
      ]
     },
     "metadata": {
      "needs_background": "light"
     },
     "output_type": "display_data"
    }
   ],
   "source": [
    "fig, ax = plt.subplots()\n",
    "fox_data.plot(ax=ax)\n",
    "ax.set_ylabel('Sentiment')\n",
    "ax.set_title('Fox Polarisation')\n",
    "ax.set_facecolor(\"#ffffff\")\n",
    "ax.grid(axis=\"y\", which=\"major\", color=\"#666666\", linestyle='--', alpha=0.4)\n",
    "plt.savefig('Fox_Absolute.png')"
   ]
  },
  {
   "cell_type": "code",
   "execution_count": 56,
   "id": "1861e0b2-74de-4d6d-9236-b90bb76640eb",
   "metadata": {},
   "outputs": [],
   "source": [
    "combined = cnn_data\n",
    "combined['FOX_BIDEN'] = fox_data['FOX_Biden']\n",
    "combined['FOX_Trump'] = fox_data['FOX_Trump']"
   ]
  },
  {
   "cell_type": "code",
   "execution_count": 47,
   "id": "53183d9a-af70-434f-a0a2-a44c40fc8a6d",
   "metadata": {},
   "outputs": [
    {
     "data": {
      "text/html": [
       "<div>\n",
       "<style scoped>\n",
       "    .dataframe tbody tr th:only-of-type {\n",
       "        vertical-align: middle;\n",
       "    }\n",
       "\n",
       "    .dataframe tbody tr th {\n",
       "        vertical-align: top;\n",
       "    }\n",
       "\n",
       "    .dataframe thead th {\n",
       "        text-align: right;\n",
       "    }\n",
       "</style>\n",
       "<table border=\"1\" class=\"dataframe\">\n",
       "  <thead>\n",
       "    <tr style=\"text-align: right;\">\n",
       "      <th></th>\n",
       "      <th>CNN_Biden</th>\n",
       "      <th>CNN_Trump</th>\n",
       "      <th>FOX_BIDEN</th>\n",
       "      <th>FOX_Trump</th>\n",
       "    </tr>\n",
       "    <tr>\n",
       "      <th>Dates</th>\n",
       "      <th></th>\n",
       "      <th></th>\n",
       "      <th></th>\n",
       "      <th></th>\n",
       "    </tr>\n",
       "  </thead>\n",
       "  <tbody>\n",
       "    <tr>\n",
       "      <th>2024-03-04</th>\n",
       "      <td>-0.016095</td>\n",
       "      <td>-0.020765</td>\n",
       "      <td>-0.061814</td>\n",
       "      <td>0.131023</td>\n",
       "    </tr>\n",
       "    <tr>\n",
       "      <th>2024-03-05</th>\n",
       "      <td>-0.013952</td>\n",
       "      <td>-0.036170</td>\n",
       "      <td>-0.053707</td>\n",
       "      <td>0.030202</td>\n",
       "    </tr>\n",
       "    <tr>\n",
       "      <th>2024-03-06</th>\n",
       "      <td>-0.047097</td>\n",
       "      <td>-0.007692</td>\n",
       "      <td>-0.016043</td>\n",
       "      <td>0.035472</td>\n",
       "    </tr>\n",
       "    <tr>\n",
       "      <th>2024-03-07</th>\n",
       "      <td>-0.016071</td>\n",
       "      <td>-0.003855</td>\n",
       "      <td>0.022391</td>\n",
       "      <td>0.075568</td>\n",
       "    </tr>\n",
       "    <tr>\n",
       "      <th>2024-03-08</th>\n",
       "      <td>-0.078148</td>\n",
       "      <td>-0.059099</td>\n",
       "      <td>-0.080188</td>\n",
       "      <td>-0.061256</td>\n",
       "    </tr>\n",
       "    <tr>\n",
       "      <th>2024-03-09</th>\n",
       "      <td>-0.107946</td>\n",
       "      <td>-0.043451</td>\n",
       "      <td>-0.086482</td>\n",
       "      <td>-0.015271</td>\n",
       "    </tr>\n",
       "    <tr>\n",
       "      <th>2024-03-14</th>\n",
       "      <td>-0.050224</td>\n",
       "      <td>-0.058463</td>\n",
       "      <td>-0.067346</td>\n",
       "      <td>-0.082695</td>\n",
       "    </tr>\n",
       "    <tr>\n",
       "      <th>2024-03-15</th>\n",
       "      <td>-0.057131</td>\n",
       "      <td>-0.086546</td>\n",
       "      <td>-0.044367</td>\n",
       "      <td>-0.054355</td>\n",
       "    </tr>\n",
       "    <tr>\n",
       "      <th>2024-03-16</th>\n",
       "      <td>-0.050868</td>\n",
       "      <td>-0.049840</td>\n",
       "      <td>-0.059113</td>\n",
       "      <td>-0.041207</td>\n",
       "    </tr>\n",
       "    <tr>\n",
       "      <th>2024-03-17</th>\n",
       "      <td>0.005330</td>\n",
       "      <td>0.004525</td>\n",
       "      <td>-0.039552</td>\n",
       "      <td>-0.028845</td>\n",
       "    </tr>\n",
       "    <tr>\n",
       "      <th>2024-03-18</th>\n",
       "      <td>-0.021650</td>\n",
       "      <td>-0.094873</td>\n",
       "      <td>-0.067249</td>\n",
       "      <td>-0.040230</td>\n",
       "    </tr>\n",
       "    <tr>\n",
       "      <th>2024-03-19</th>\n",
       "      <td>-0.049497</td>\n",
       "      <td>-0.030765</td>\n",
       "      <td>-0.038981</td>\n",
       "      <td>-0.059740</td>\n",
       "    </tr>\n",
       "    <tr>\n",
       "      <th>2024-03-20</th>\n",
       "      <td>-0.066773</td>\n",
       "      <td>-0.010598</td>\n",
       "      <td>-0.034910</td>\n",
       "      <td>-0.074177</td>\n",
       "    </tr>\n",
       "    <tr>\n",
       "      <th>2024-03-21</th>\n",
       "      <td>-0.075170</td>\n",
       "      <td>-0.036414</td>\n",
       "      <td>-0.055393</td>\n",
       "      <td>-0.042911</td>\n",
       "    </tr>\n",
       "    <tr>\n",
       "      <th>2024-03-22</th>\n",
       "      <td>-0.077298</td>\n",
       "      <td>-0.025896</td>\n",
       "      <td>0.005958</td>\n",
       "      <td>-0.086746</td>\n",
       "    </tr>\n",
       "    <tr>\n",
       "      <th>2024-03-23</th>\n",
       "      <td>-0.061113</td>\n",
       "      <td>-0.023386</td>\n",
       "      <td>-0.075063</td>\n",
       "      <td>-0.034011</td>\n",
       "    </tr>\n",
       "    <tr>\n",
       "      <th>2024-03-25</th>\n",
       "      <td>-0.057577</td>\n",
       "      <td>-0.014947</td>\n",
       "      <td>-0.035445</td>\n",
       "      <td>-0.006484</td>\n",
       "    </tr>\n",
       "  </tbody>\n",
       "</table>\n",
       "</div>"
      ],
      "text/plain": [
       "            CNN_Biden  CNN_Trump  FOX_BIDEN  FOX_Trump\n",
       "Dates                                                 \n",
       "2024-03-04  -0.016095  -0.020765  -0.061814   0.131023\n",
       "2024-03-05  -0.013952  -0.036170  -0.053707   0.030202\n",
       "2024-03-06  -0.047097  -0.007692  -0.016043   0.035472\n",
       "2024-03-07  -0.016071  -0.003855   0.022391   0.075568\n",
       "2024-03-08  -0.078148  -0.059099  -0.080188  -0.061256\n",
       "2024-03-09  -0.107946  -0.043451  -0.086482  -0.015271\n",
       "2024-03-14  -0.050224  -0.058463  -0.067346  -0.082695\n",
       "2024-03-15  -0.057131  -0.086546  -0.044367  -0.054355\n",
       "2024-03-16  -0.050868  -0.049840  -0.059113  -0.041207\n",
       "2024-03-17   0.005330   0.004525  -0.039552  -0.028845\n",
       "2024-03-18  -0.021650  -0.094873  -0.067249  -0.040230\n",
       "2024-03-19  -0.049497  -0.030765  -0.038981  -0.059740\n",
       "2024-03-20  -0.066773  -0.010598  -0.034910  -0.074177\n",
       "2024-03-21  -0.075170  -0.036414  -0.055393  -0.042911\n",
       "2024-03-22  -0.077298  -0.025896   0.005958  -0.086746\n",
       "2024-03-23  -0.061113  -0.023386  -0.075063  -0.034011\n",
       "2024-03-25  -0.057577  -0.014947  -0.035445  -0.006484"
      ]
     },
     "execution_count": 47,
     "metadata": {},
     "output_type": "execute_result"
    }
   ],
   "source": [
    "cnn_data"
   ]
  },
  {
   "cell_type": "code",
   "execution_count": 50,
   "id": "3647e026-dd8c-4bdf-b3ed-31d351166702",
   "metadata": {},
   "outputs": [
    {
     "data": {
      "image/png": "[encoded data removed]",
      "text/plain": [
       "<Figure size 432x288 with 1 Axes>"
      ]
     },
     "metadata": {
      "needs_background": "light"
     },
     "output_type": "display_data"
    }
   ],
   "source": [
    "fig, ax = plt.subplots()\n",
    "cnn_data.plot(ax=ax)\n",
    "ax.set_ylabel('Sentiment')\n",
    "ax.set_title('CNN Polarisation')\n",
    "ax.set_facecolor(\"#ffffff\")\n",
    "ax.grid(axis=\"y\", which=\"major\", color=\"#666666\", linestyle='--', alpha=0.4)\n",
    "plt.savefig('Absolute_values.png')"
   ]
  },
  {
   "cell_type": "code",
   "execution_count": 34,
   "id": "1f883e95-5265-420d-94d3-d68d8bf423a2",
   "metadata": {},
   "outputs": [
    {
     "data": {
      "text/plain": [
       "DatetimeIndex(['2024-03-04', '2024-03-05', '2024-03-06', '2024-03-07',\n",
       "               '2024-03-08', '2024-03-09', '2024-03-14', '2024-03-15',\n",
       "               '2024-03-16', '2024-03-17', '2024-03-18', '2024-03-19',\n",
       "               '2024-03-20', '2024-03-21', '2024-03-22', '2024-03-23',\n",
       "               '2024-03-25'],\n",
       "              dtype='datetime64[ns]', name='Dates', freq=None)"
      ]
     },
     "execution_count": 34,
     "metadata": {},
     "output_type": "execute_result"
    }
   ],
   "source": [
    "pd.to_datetime(fox_data.index)"
   ]
  },
  {
   "cell_type": "code",
   "execution_count": null,
   "id": "40986919-c960-4cff-9cae-78033c2b76df",
   "metadata": {},
   "outputs": [],
   "source": []
  }
 ],
 "metadata": {
  "kernelspec": {
   "display_name": "Python 3",
   "language": "python",
   "name": "python3"
  },
  "language_info": {
   "codemirror_mode": {
    "name": "ipython",
    "version": 3
   },
   "file_extension": ".py",
   "mimetype": "text/x-python",
   "name": "python",
   "nbconvert_exporter": "python",
   "pygments_lexer": "ipython3",
   "version": "3.8.8"
  }
 },
 "nbformat": 4,
 "nbformat_minor": 5
}
